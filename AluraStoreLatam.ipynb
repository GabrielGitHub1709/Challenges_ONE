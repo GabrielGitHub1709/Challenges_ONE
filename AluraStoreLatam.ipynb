{
  "nbformat": 4,
  "nbformat_minor": 0,
  "metadata": {
    "colab": {
      "provenance": []
    },
    "kernelspec": {
      "name": "python3",
      "display_name": "Python 3"
    },
    "language_info": {
      "name": "python"
    }
  },
  "cells": [
    {
      "cell_type": "markdown",
      "source": [
        "### Importación de datos\n",
        "\n"
      ],
      "metadata": {
        "id": "RhEdWd9YUR6H"
      }
    },
    {
      "cell_type": "code",
      "execution_count": null,
      "metadata": {
        "colab": {
          "base_uri": "https://localhost:8080/",
          "height": 310
        },
        "id": "T3EvaeQ_INIL",
        "outputId": "6073daf2-2b77-48fd-9b3e-0a40fb1035c4"
      },
      "outputs": [
        {
          "output_type": "execute_result",
          "data": {
            "text/plain": [
              "            Producto Categoría del Producto    Precio  Costo de envío  \\\n",
              "0  Asistente virtual           Electrónicos  164300.0          6900.0   \n",
              "1    Mesa de comedor                Muebles  192300.0          8400.0   \n",
              "2      Juego de mesa               Juguetes  209600.0         15900.0   \n",
              "3         Microondas      Electrodomésticos  757500.0         41000.0   \n",
              "4   Silla de oficina                Muebles  335200.0         20200.0   \n",
              "\n",
              "  Fecha de Compra         Vendedor Lugar de Compra  Calificación  \\\n",
              "0      16/01/2021      Pedro Gomez          Bogotá             4   \n",
              "1      18/05/2022  Beatriz Morales        Medellín             1   \n",
              "2      15/03/2021   Juan Fernandez       Cartagena             1   \n",
              "3      03/05/2022   Juan Fernandez            Cali             4   \n",
              "4      07/11/2020    Maria Alfonso        Medellín             5   \n",
              "\n",
              "       Método de pago  Cantidad de cuotas       lat       lon  \n",
              "0  Tarjeta de crédito                   8   4.60971 -74.08175  \n",
              "1  Tarjeta de crédito                   4   6.25184 -75.56359  \n",
              "2  Tarjeta de crédito                   1  10.39972 -75.51444  \n",
              "3               Nequi                   1   3.43722 -76.52250  \n",
              "4               Nequi                   1   6.25184 -75.56359  "
            ],
            "text/html": [
              "\n",
              "  <div id=\"df-f682bcf7-d558-4c06-bfbb-5478134c5480\" class=\"colab-df-container\">\n",
              "    <div>\n",
              "<style scoped>\n",
              "    .dataframe tbody tr th:only-of-type {\n",
              "        vertical-align: middle;\n",
              "    }\n",
              "\n",
              "    .dataframe tbody tr th {\n",
              "        vertical-align: top;\n",
              "    }\n",
              "\n",
              "    .dataframe thead th {\n",
              "        text-align: right;\n",
              "    }\n",
              "</style>\n",
              "<table border=\"1\" class=\"dataframe\">\n",
              "  <thead>\n",
              "    <tr style=\"text-align: right;\">\n",
              "      <th></th>\n",
              "      <th>Producto</th>\n",
              "      <th>Categoría del Producto</th>\n",
              "      <th>Precio</th>\n",
              "      <th>Costo de envío</th>\n",
              "      <th>Fecha de Compra</th>\n",
              "      <th>Vendedor</th>\n",
              "      <th>Lugar de Compra</th>\n",
              "      <th>Calificación</th>\n",
              "      <th>Método de pago</th>\n",
              "      <th>Cantidad de cuotas</th>\n",
              "      <th>lat</th>\n",
              "      <th>lon</th>\n",
              "    </tr>\n",
              "  </thead>\n",
              "  <tbody>\n",
              "    <tr>\n",
              "      <th>0</th>\n",
              "      <td>Asistente virtual</td>\n",
              "      <td>Electrónicos</td>\n",
              "      <td>164300.0</td>\n",
              "      <td>6900.0</td>\n",
              "      <td>16/01/2021</td>\n",
              "      <td>Pedro Gomez</td>\n",
              "      <td>Bogotá</td>\n",
              "      <td>4</td>\n",
              "      <td>Tarjeta de crédito</td>\n",
              "      <td>8</td>\n",
              "      <td>4.60971</td>\n",
              "      <td>-74.08175</td>\n",
              "    </tr>\n",
              "    <tr>\n",
              "      <th>1</th>\n",
              "      <td>Mesa de comedor</td>\n",
              "      <td>Muebles</td>\n",
              "      <td>192300.0</td>\n",
              "      <td>8400.0</td>\n",
              "      <td>18/05/2022</td>\n",
              "      <td>Beatriz Morales</td>\n",
              "      <td>Medellín</td>\n",
              "      <td>1</td>\n",
              "      <td>Tarjeta de crédito</td>\n",
              "      <td>4</td>\n",
              "      <td>6.25184</td>\n",
              "      <td>-75.56359</td>\n",
              "    </tr>\n",
              "    <tr>\n",
              "      <th>2</th>\n",
              "      <td>Juego de mesa</td>\n",
              "      <td>Juguetes</td>\n",
              "      <td>209600.0</td>\n",
              "      <td>15900.0</td>\n",
              "      <td>15/03/2021</td>\n",
              "      <td>Juan Fernandez</td>\n",
              "      <td>Cartagena</td>\n",
              "      <td>1</td>\n",
              "      <td>Tarjeta de crédito</td>\n",
              "      <td>1</td>\n",
              "      <td>10.39972</td>\n",
              "      <td>-75.51444</td>\n",
              "    </tr>\n",
              "    <tr>\n",
              "      <th>3</th>\n",
              "      <td>Microondas</td>\n",
              "      <td>Electrodomésticos</td>\n",
              "      <td>757500.0</td>\n",
              "      <td>41000.0</td>\n",
              "      <td>03/05/2022</td>\n",
              "      <td>Juan Fernandez</td>\n",
              "      <td>Cali</td>\n",
              "      <td>4</td>\n",
              "      <td>Nequi</td>\n",
              "      <td>1</td>\n",
              "      <td>3.43722</td>\n",
              "      <td>-76.52250</td>\n",
              "    </tr>\n",
              "    <tr>\n",
              "      <th>4</th>\n",
              "      <td>Silla de oficina</td>\n",
              "      <td>Muebles</td>\n",
              "      <td>335200.0</td>\n",
              "      <td>20200.0</td>\n",
              "      <td>07/11/2020</td>\n",
              "      <td>Maria Alfonso</td>\n",
              "      <td>Medellín</td>\n",
              "      <td>5</td>\n",
              "      <td>Nequi</td>\n",
              "      <td>1</td>\n",
              "      <td>6.25184</td>\n",
              "      <td>-75.56359</td>\n",
              "    </tr>\n",
              "  </tbody>\n",
              "</table>\n",
              "</div>\n",
              "    <div class=\"colab-df-buttons\">\n",
              "\n",
              "  <div class=\"colab-df-container\">\n",
              "    <button class=\"colab-df-convert\" onclick=\"convertToInteractive('df-f682bcf7-d558-4c06-bfbb-5478134c5480')\"\n",
              "            title=\"Convert this dataframe to an interactive table.\"\n",
              "            style=\"display:none;\">\n",
              "\n",
              "  <svg xmlns=\"http://www.w3.org/2000/svg\" height=\"24px\" viewBox=\"0 -960 960 960\">\n",
              "    <path d=\"M120-120v-720h720v720H120Zm60-500h600v-160H180v160Zm220 220h160v-160H400v160Zm0 220h160v-160H400v160ZM180-400h160v-160H180v160Zm440 0h160v-160H620v160ZM180-180h160v-160H180v160Zm440 0h160v-160H620v160Z\"/>\n",
              "  </svg>\n",
              "    </button>\n",
              "\n",
              "  <style>\n",
              "    .colab-df-container {\n",
              "      display:flex;\n",
              "      gap: 12px;\n",
              "    }\n",
              "\n",
              "    .colab-df-convert {\n",
              "      background-color: #E8F0FE;\n",
              "      border: none;\n",
              "      border-radius: 50%;\n",
              "      cursor: pointer;\n",
              "      display: none;\n",
              "      fill: #1967D2;\n",
              "      height: 32px;\n",
              "      padding: 0 0 0 0;\n",
              "      width: 32px;\n",
              "    }\n",
              "\n",
              "    .colab-df-convert:hover {\n",
              "      background-color: #E2EBFA;\n",
              "      box-shadow: 0px 1px 2px rgba(60, 64, 67, 0.3), 0px 1px 3px 1px rgba(60, 64, 67, 0.15);\n",
              "      fill: #174EA6;\n",
              "    }\n",
              "\n",
              "    .colab-df-buttons div {\n",
              "      margin-bottom: 4px;\n",
              "    }\n",
              "\n",
              "    [theme=dark] .colab-df-convert {\n",
              "      background-color: #3B4455;\n",
              "      fill: #D2E3FC;\n",
              "    }\n",
              "\n",
              "    [theme=dark] .colab-df-convert:hover {\n",
              "      background-color: #434B5C;\n",
              "      box-shadow: 0px 1px 3px 1px rgba(0, 0, 0, 0.15);\n",
              "      filter: drop-shadow(0px 1px 2px rgba(0, 0, 0, 0.3));\n",
              "      fill: #FFFFFF;\n",
              "    }\n",
              "  </style>\n",
              "\n",
              "    <script>\n",
              "      const buttonEl =\n",
              "        document.querySelector('#df-f682bcf7-d558-4c06-bfbb-5478134c5480 button.colab-df-convert');\n",
              "      buttonEl.style.display =\n",
              "        google.colab.kernel.accessAllowed ? 'block' : 'none';\n",
              "\n",
              "      async function convertToInteractive(key) {\n",
              "        const element = document.querySelector('#df-f682bcf7-d558-4c06-bfbb-5478134c5480');\n",
              "        const dataTable =\n",
              "          await google.colab.kernel.invokeFunction('convertToInteractive',\n",
              "                                                    [key], {});\n",
              "        if (!dataTable) return;\n",
              "\n",
              "        const docLinkHtml = 'Like what you see? Visit the ' +\n",
              "          '<a target=\"_blank\" href=https://colab.research.google.com/notebooks/data_table.ipynb>data table notebook</a>'\n",
              "          + ' to learn more about interactive tables.';\n",
              "        element.innerHTML = '';\n",
              "        dataTable['output_type'] = 'display_data';\n",
              "        await google.colab.output.renderOutput(dataTable, element);\n",
              "        const docLink = document.createElement('div');\n",
              "        docLink.innerHTML = docLinkHtml;\n",
              "        element.appendChild(docLink);\n",
              "      }\n",
              "    </script>\n",
              "  </div>\n",
              "\n",
              "\n",
              "    <div id=\"df-f7b1af10-5680-4008-be9b-55fa3ab0920f\">\n",
              "      <button class=\"colab-df-quickchart\" onclick=\"quickchart('df-f7b1af10-5680-4008-be9b-55fa3ab0920f')\"\n",
              "                title=\"Suggest charts\"\n",
              "                style=\"display:none;\">\n",
              "\n",
              "<svg xmlns=\"http://www.w3.org/2000/svg\" height=\"24px\"viewBox=\"0 0 24 24\"\n",
              "     width=\"24px\">\n",
              "    <g>\n",
              "        <path d=\"M19 3H5c-1.1 0-2 .9-2 2v14c0 1.1.9 2 2 2h14c1.1 0 2-.9 2-2V5c0-1.1-.9-2-2-2zM9 17H7v-7h2v7zm4 0h-2V7h2v10zm4 0h-2v-4h2v4z\"/>\n",
              "    </g>\n",
              "</svg>\n",
              "      </button>\n",
              "\n",
              "<style>\n",
              "  .colab-df-quickchart {\n",
              "      --bg-color: #E8F0FE;\n",
              "      --fill-color: #1967D2;\n",
              "      --hover-bg-color: #E2EBFA;\n",
              "      --hover-fill-color: #174EA6;\n",
              "      --disabled-fill-color: #AAA;\n",
              "      --disabled-bg-color: #DDD;\n",
              "  }\n",
              "\n",
              "  [theme=dark] .colab-df-quickchart {\n",
              "      --bg-color: #3B4455;\n",
              "      --fill-color: #D2E3FC;\n",
              "      --hover-bg-color: #434B5C;\n",
              "      --hover-fill-color: #FFFFFF;\n",
              "      --disabled-bg-color: #3B4455;\n",
              "      --disabled-fill-color: #666;\n",
              "  }\n",
              "\n",
              "  .colab-df-quickchart {\n",
              "    background-color: var(--bg-color);\n",
              "    border: none;\n",
              "    border-radius: 50%;\n",
              "    cursor: pointer;\n",
              "    display: none;\n",
              "    fill: var(--fill-color);\n",
              "    height: 32px;\n",
              "    padding: 0;\n",
              "    width: 32px;\n",
              "  }\n",
              "\n",
              "  .colab-df-quickchart:hover {\n",
              "    background-color: var(--hover-bg-color);\n",
              "    box-shadow: 0 1px 2px rgba(60, 64, 67, 0.3), 0 1px 3px 1px rgba(60, 64, 67, 0.15);\n",
              "    fill: var(--button-hover-fill-color);\n",
              "  }\n",
              "\n",
              "  .colab-df-quickchart-complete:disabled,\n",
              "  .colab-df-quickchart-complete:disabled:hover {\n",
              "    background-color: var(--disabled-bg-color);\n",
              "    fill: var(--disabled-fill-color);\n",
              "    box-shadow: none;\n",
              "  }\n",
              "\n",
              "  .colab-df-spinner {\n",
              "    border: 2px solid var(--fill-color);\n",
              "    border-color: transparent;\n",
              "    border-bottom-color: var(--fill-color);\n",
              "    animation:\n",
              "      spin 1s steps(1) infinite;\n",
              "  }\n",
              "\n",
              "  @keyframes spin {\n",
              "    0% {\n",
              "      border-color: transparent;\n",
              "      border-bottom-color: var(--fill-color);\n",
              "      border-left-color: var(--fill-color);\n",
              "    }\n",
              "    20% {\n",
              "      border-color: transparent;\n",
              "      border-left-color: var(--fill-color);\n",
              "      border-top-color: var(--fill-color);\n",
              "    }\n",
              "    30% {\n",
              "      border-color: transparent;\n",
              "      border-left-color: var(--fill-color);\n",
              "      border-top-color: var(--fill-color);\n",
              "      border-right-color: var(--fill-color);\n",
              "    }\n",
              "    40% {\n",
              "      border-color: transparent;\n",
              "      border-right-color: var(--fill-color);\n",
              "      border-top-color: var(--fill-color);\n",
              "    }\n",
              "    60% {\n",
              "      border-color: transparent;\n",
              "      border-right-color: var(--fill-color);\n",
              "    }\n",
              "    80% {\n",
              "      border-color: transparent;\n",
              "      border-right-color: var(--fill-color);\n",
              "      border-bottom-color: var(--fill-color);\n",
              "    }\n",
              "    90% {\n",
              "      border-color: transparent;\n",
              "      border-bottom-color: var(--fill-color);\n",
              "    }\n",
              "  }\n",
              "</style>\n",
              "\n",
              "      <script>\n",
              "        async function quickchart(key) {\n",
              "          const quickchartButtonEl =\n",
              "            document.querySelector('#' + key + ' button');\n",
              "          quickchartButtonEl.disabled = true;  // To prevent multiple clicks.\n",
              "          quickchartButtonEl.classList.add('colab-df-spinner');\n",
              "          try {\n",
              "            const charts = await google.colab.kernel.invokeFunction(\n",
              "                'suggestCharts', [key], {});\n",
              "          } catch (error) {\n",
              "            console.error('Error during call to suggestCharts:', error);\n",
              "          }\n",
              "          quickchartButtonEl.classList.remove('colab-df-spinner');\n",
              "          quickchartButtonEl.classList.add('colab-df-quickchart-complete');\n",
              "        }\n",
              "        (() => {\n",
              "          let quickchartButtonEl =\n",
              "            document.querySelector('#df-f7b1af10-5680-4008-be9b-55fa3ab0920f button');\n",
              "          quickchartButtonEl.style.display =\n",
              "            google.colab.kernel.accessAllowed ? 'block' : 'none';\n",
              "        })();\n",
              "      </script>\n",
              "    </div>\n",
              "\n",
              "    </div>\n",
              "  </div>\n"
            ],
            "application/vnd.google.colaboratory.intrinsic+json": {
              "type": "dataframe",
              "variable_name": "tienda",
              "summary": "{\n  \"name\": \"tienda\",\n  \"rows\": 2359,\n  \"fields\": [\n    {\n      \"column\": \"Producto\",\n      \"properties\": {\n        \"dtype\": \"category\",\n        \"num_unique_values\": 51,\n        \"samples\": [\n          \"Guitarra ac\\u00fastica\",\n          \"Bal\\u00f3n de baloncesto\",\n          \"Smartwatch\"\n        ],\n        \"semantic_type\": \"\",\n        \"description\": \"\"\n      }\n    },\n    {\n      \"column\": \"Categor\\u00eda del Producto\",\n      \"properties\": {\n        \"dtype\": \"category\",\n        \"num_unique_values\": 8,\n        \"samples\": [\n          \"Muebles\",\n          \"Deportes y diversi\\u00f3n\",\n          \"Electr\\u00f3nicos\"\n        ],\n        \"semantic_type\": \"\",\n        \"description\": \"\"\n      }\n    },\n    {\n      \"column\": \"Precio\",\n      \"properties\": {\n        \"dtype\": \"number\",\n        \"std\": 614686.7653873172,\n        \"min\": 7600.0,\n        \"max\": 2977000.0,\n        \"num_unique_values\": 1937,\n        \"samples\": [\n          2499400.0,\n          14800.0,\n          80500.0\n        ],\n        \"semantic_type\": \"\",\n        \"description\": \"\"\n      }\n    },\n    {\n      \"column\": \"Costo de env\\u00edo\",\n      \"properties\": {\n        \"dtype\": \"number\",\n        \"std\": 32860.0017825605,\n        \"min\": 0.0,\n        \"max\": 160800.0,\n        \"num_unique_values\": 753,\n        \"samples\": [\n          117800.0,\n          54700.0,\n          45600.0\n        ],\n        \"semantic_type\": \"\",\n        \"description\": \"\"\n      }\n    },\n    {\n      \"column\": \"Fecha de Compra\",\n      \"properties\": {\n        \"dtype\": \"object\",\n        \"num_unique_values\": 1018,\n        \"samples\": [\n          \"15/09/2022\",\n          \"03/06/2020\",\n          \"06/11/2021\"\n        ],\n        \"semantic_type\": \"\",\n        \"description\": \"\"\n      }\n    },\n    {\n      \"column\": \"Vendedor\",\n      \"properties\": {\n        \"dtype\": \"category\",\n        \"num_unique_values\": 14,\n        \"samples\": [\n          \"Juliana Costa\",\n          \"Mariana Herrera\",\n          \"Pedro Gomez\"\n        ],\n        \"semantic_type\": \"\",\n        \"description\": \"\"\n      }\n    },\n    {\n      \"column\": \"Lugar de Compra\",\n      \"properties\": {\n        \"dtype\": \"category\",\n        \"num_unique_values\": 19,\n        \"samples\": [\n          \"Bogot\\u00e1\",\n          \"Pereira\",\n          \"Neiva\"\n        ],\n        \"semantic_type\": \"\",\n        \"description\": \"\"\n      }\n    },\n    {\n      \"column\": \"Calificaci\\u00f3n\",\n      \"properties\": {\n        \"dtype\": \"number\",\n        \"std\": 1,\n        \"min\": 1,\n        \"max\": 5,\n        \"num_unique_values\": 5,\n        \"samples\": [\n          1,\n          2,\n          5\n        ],\n        \"semantic_type\": \"\",\n        \"description\": \"\"\n      }\n    },\n    {\n      \"column\": \"M\\u00e9todo de pago\",\n      \"properties\": {\n        \"dtype\": \"category\",\n        \"num_unique_values\": 4,\n        \"samples\": [\n          \"Nequi\",\n          \"Tarjeta de d\\u00e9bito\",\n          \"Tarjeta de cr\\u00e9dito\"\n        ],\n        \"semantic_type\": \"\",\n        \"description\": \"\"\n      }\n    },\n    {\n      \"column\": \"Cantidad de cuotas\",\n      \"properties\": {\n        \"dtype\": \"number\",\n        \"std\": 2,\n        \"min\": 1,\n        \"max\": 24,\n        \"num_unique_values\": 15,\n        \"samples\": [\n          7,\n          14,\n          8\n        ],\n        \"semantic_type\": \"\",\n        \"description\": \"\"\n      }\n    },\n    {\n      \"column\": \"lat\",\n      \"properties\": {\n        \"dtype\": \"number\",\n        \"std\": 2.2874452492678627,\n        \"min\": -4.21528,\n        \"max\": 11.54444,\n        \"num_unique_values\": 19,\n        \"samples\": [\n          4.60971,\n          4.81333,\n          2.9273\n        ],\n        \"semantic_type\": \"\",\n        \"description\": \"\"\n      }\n    },\n    {\n      \"column\": \"lon\",\n      \"properties\": {\n        \"dtype\": \"number\",\n        \"std\": 1.2178272727088486,\n        \"min\": -77.28111,\n        \"max\": -67.9239,\n        \"num_unique_values\": 19,\n        \"samples\": [\n          -74.08175,\n          -75.69611,\n          -75.28189\n        ],\n        \"semantic_type\": \"\",\n        \"description\": \"\"\n      }\n    }\n  ]\n}"
            }
          },
          "metadata": {},
          "execution_count": 6
        }
      ],
      "source": [
        "import pandas as pd\n",
        "\n",
        "url = \"https://raw.githubusercontent.com/alura-es-cursos/challenge1-data-science-latam/refs/heads/main/base-de-datos-challenge1-latam/tienda_1%20.csv\"\n",
        "url2 = \"https://raw.githubusercontent.com/alura-es-cursos/challenge1-data-science-latam/refs/heads/main/base-de-datos-challenge1-latam/tienda_2.csv\"\n",
        "url3 = \"https://raw.githubusercontent.com/alura-es-cursos/challenge1-data-science-latam/refs/heads/main/base-de-datos-challenge1-latam/tienda_3.csv\"\n",
        "url4 = \"https://raw.githubusercontent.com/alura-es-cursos/challenge1-data-science-latam/refs/heads/main/base-de-datos-challenge1-latam/tienda_4.csv\"\n",
        "\n",
        "tienda = pd.read_csv(url)\n",
        "tienda2 = pd.read_csv(url2)\n",
        "tienda3 = pd.read_csv(url3)\n",
        "tienda4 = pd.read_csv(url4)\n",
        "\n",
        "tienda.head()"
      ]
    },
    {
      "cell_type": "markdown",
      "source": [
        "#1. Análisis de facturación\n",
        "\n"
      ],
      "metadata": {
        "id": "X62IW3KFUIYm"
      }
    },
    {
      "cell_type": "markdown",
      "source": [
        "Se calcula el **Ingreso total**, el **Costo de envio** y se obtiene la diferencia resultando el **Ingreso neto** de cada tienda."
      ],
      "metadata": {
        "id": "DCTaq441BM8O"
      }
    },
    {
      "cell_type": "code",
      "source": [
        "ingreso_total_tienda_1 = sum(tienda.Precio)\n",
        "costo_envio_tienda_1 = sum(tienda['Costo de envío'])\n",
        "Ingreso_Neto_tienda_1 = ingreso_total_tienda_1 - costo_envio_tienda_1\n",
        "\n",
        "ingreso_total_tienda_2 = sum(tienda2.Precio)\n",
        "costo_envio_tienda_2 = sum(tienda2['Costo de envío'])\n",
        "Ingreso_Neto_tienda_2 = ingreso_total_tienda_2 - costo_envio_tienda_2\n",
        "\n",
        "ingreso_total_tienda_3 = sum(tienda3.Precio)\n",
        "costo_envio_tienda_3 = sum(tienda3['Costo de envío'])\n",
        "Ingreso_Neto_tienda_3 = ingreso_total_tienda_3 - costo_envio_tienda_3\n",
        "\n",
        "ingreso_total_tienda_4 = sum(tienda4.Precio)\n",
        "costo_envio_tienda_4 = sum(tienda4['Costo de envío'])\n",
        "Ingreso_Neto_tienda_4 = ingreso_total_tienda_4 - costo_envio_tienda_4\n"
      ],
      "metadata": {
        "id": "xykobSftV64I"
      },
      "execution_count": null,
      "outputs": []
    },
    {
      "cell_type": "markdown",
      "source": [
        "Se genera el reporte de los **Ingresos Netos Por Tienda**"
      ],
      "metadata": {
        "id": "AoCnuO8KgZyL"
      }
    },
    {
      "cell_type": "code",
      "source": [
        "print('\\033[1m             Reporte de los Ingresos Netos Por Tienda.\\033[0m\\n')\n",
        "print('             Ingreso          Costo de Envio          Ingreso Neto\\n')\n",
        "print(f'Tienda 1: {ingreso_total_tienda_1}          {costo_envio_tienda_1}            {Ingreso_Neto_tienda_1}')\n",
        "print(f'Tienda 2: {ingreso_total_tienda_2}          {costo_envio_tienda_2}            {Ingreso_Neto_tienda_2}')\n",
        "print(f'Tienda 3: {ingreso_total_tienda_3}          {costo_envio_tienda_3}            {Ingreso_Neto_tienda_3}')\n",
        "print(f'\\033[1mTienda 4: {ingreso_total_tienda_4}          {costo_envio_tienda_4}             {Ingreso_Neto_tienda_4}\\033[0m')"
      ],
      "metadata": {
        "colab": {
          "base_uri": "https://localhost:8080/"
        },
        "id": "7XZWVGgFgIOy",
        "outputId": "143689bc-2a8a-42b2-825f-c8cb47c482e7"
      },
      "execution_count": null,
      "outputs": [
        {
          "output_type": "stream",
          "name": "stdout",
          "text": [
            "\u001b[1m             Reporte de los Ingresos Netos Por Tienda.\u001b[0m\n",
            "\n",
            "             Ingreso          Costo de Envio          Ingreso Neto\n",
            "\n",
            "Tienda 1: 1150880400.0          61377900.0            1089502500.0\n",
            "Tienda 2: 1116343500.0          59485100.0            1056858400.0\n",
            "Tienda 3: 1098019600.0          58516600.0            1039503000.0\n",
            "\u001b[1mTienda 4: 1038375700.0          55317400.0             983058300.0\u001b[0m\n"
          ]
        }
      ]
    },
    {
      "cell_type": "markdown",
      "source": [
        "Se comparan los **Ingreso netos** de las 4 tiendas y se determina que la tienda con menores **Ingresos netos** es la tienda **4**."
      ],
      "metadata": {
        "id": "MJh05SBs_xLT"
      }
    },
    {
      "cell_type": "markdown",
      "source": [
        "Se genera la grafica de los **Ingresos Por Tienda en Miles de Millones**"
      ],
      "metadata": {
        "id": "8NVs7A_8IdIa"
      }
    },
    {
      "cell_type": "code",
      "source": [
        "import matplotlib.pyplot as plt\n",
        "# Para mostrar los datos en Miles de Millones\n",
        "mm=1000000000\n",
        "\n",
        "data = pd.DataFrame({'Tiendas': ['Tienda 1', 'Tienda 2', 'Tienda 3', 'Tienda 4'],\n",
        "                     'Costo Envio': [costo_envio_tienda_1/mm, costo_envio_tienda_2/mm, costo_envio_tienda_3/mm, costo_envio_tienda_4/mm],\n",
        "                     'Ingreso Neto': [Ingreso_Neto_tienda_1/mm, Ingreso_Neto_tienda_2/mm, Ingreso_Neto_tienda_3/mm, Ingreso_Neto_tienda_4/mm]})\n",
        "\n",
        "data.plot.bar(x='Tiendas', y=['Costo Envio', 'Ingreso Neto'], stacked=True, title='Ingresos Por Tienda en Miles de Millones')\n",
        "#plt.xlabel('Tiendas', labelrotation=0)\n",
        "plt.ylabel('Ingresos')\n",
        "\n",
        "ax = plt.subplot(111)\n",
        "ax.tick_params(axis='x', which='major', direction='out', labelrotation=0)\n",
        "\n",
        "# Colocar una leyenda debajo del eje actual\n",
        "ax.legend(title='Ingresos',loc='upper center', bbox_to_anchor=(0.5, -0.05),\n",
        "          fancybox=True, shadow=True, ncol=5)\n",
        "for i in ax.containers:\n",
        "    ax.bar_label(i, label_type='edge')\n",
        "plt.show()\n",
        "\n"
      ],
      "metadata": {
        "colab": {
          "base_uri": "https://localhost:8080/",
          "height": 500
        },
        "id": "PFNFjWFTzJDy",
        "outputId": "58655458-4306-4093-e8f5-0826f79b5541"
      },
      "execution_count": null,
      "outputs": [
        {
          "output_type": "display_data",
          "data": {
            "text/plain": [
              "<Figure size 640x480 with 1 Axes>"
            ],
            "image/png": "[encoded data removed]"
          },
          "metadata": {}
        }
      ]
    },
    {
      "cell_type": "markdown",
      "source": [
        "# 2. Ventas por categoría"
      ],
      "metadata": {
        "id": "2V_vcAPzWZmR"
      }
    },
    {
      "cell_type": "markdown",
      "source": [
        "Se crea la función **Ventas_Categorias()** para obtener los productos vendidos en las tiendas agrupados por categoria."
      ],
      "metadata": {
        "id": "nPFKJvO5RSap"
      }
    },
    {
      "cell_type": "code",
      "source": [
        "def Ventas_Categorias(partienda):\n",
        "  Ventas_Categorias = partienda['Categoría del Producto'].groupby(partienda['Categoría del Producto']).size().reset_index(name='conteo')\n",
        "  Ventas_Categorias = Ventas_Categorias.sort_values(by='Categoría del Producto')\n",
        "  return Ventas_Categorias\n"
      ],
      "metadata": {
        "id": "4ot-zI9N645f"
      },
      "execution_count": null,
      "outputs": []
    },
    {
      "cell_type": "markdown",
      "source": [
        "Se obtienen las ventas por categorías de productos en las 4 tiendas."
      ],
      "metadata": {
        "id": "C82MgqpxRqlt"
      }
    },
    {
      "cell_type": "code",
      "source": [
        "  Ventas_Categorias_Tienda_1=Ventas_Categorias(tienda)\n",
        "  Ventas_Categorias_Tienda_2=Ventas_Categorias(tienda2)\n",
        "  Ventas_Categorias_Tienda_3=Ventas_Categorias(tienda3)\n",
        "  Ventas_Categorias_Tienda_4=Ventas_Categorias(tienda4)"
      ],
      "metadata": {
        "id": "TbnbvmAq-pHs"
      },
      "execution_count": null,
      "outputs": []
    },
    {
      "cell_type": "markdown",
      "source": [
        "Se genera el reporte de las ventas por categoria de las 4 tiendas ordenados por categoria del producto."
      ],
      "metadata": {
        "id": "HsijIhhySAkt"
      }
    },
    {
      "cell_type": "code",
      "source": [
        "  categorias=[]\n",
        "  ventas=[]\n",
        "  ventas_2=[]\n",
        "  ventas_3=[]\n",
        "  ventas_4=[]\n",
        "  for i in range(len(Ventas_Categorias_Tienda_1)):\n",
        "    categorias.append(Ventas_Categorias_Tienda_1['Categoría del Producto'][i])\n",
        "    ventas.append(int(Ventas_Categorias_Tienda_1['conteo'][i]))\n",
        "    ventas_2.append(int(Ventas_Categorias_Tienda_2['conteo'][i]))\n",
        "    ventas_3.append(int(Ventas_Categorias_Tienda_3['conteo'][i]))\n",
        "    ventas_4.append(int(Ventas_Categorias_Tienda_4['conteo'][i]))\n",
        "  print('\\033[1m             Reporte de las ventas por Categorias Por Tienda.\\033[0m\\n')\n",
        "  print('Categoría del Producto      Tienda 1     Tienda 2     Tienda 3     Tienda 4')\n",
        "  for i in range(len(categorias)):\n",
        "    espacios=30-len(categorias[i])\n",
        "    text=categorias[i]+' '*espacios+str(ventas[i])+' '*10+str(ventas_2[i])+' '*10+str(ventas_3[i])+' '*10+str(ventas_4[i])\n",
        "    print(text)\n"
      ],
      "metadata": {
        "colab": {
          "base_uri": "https://localhost:8080/"
        },
        "id": "5FhVlvno-jtX",
        "outputId": "fe38642a-b85e-4f34-9bf4-5faddcf30754"
      },
      "execution_count": null,
      "outputs": [
        {
          "output_type": "stream",
          "name": "stdout",
          "text": [
            "\u001b[1m             Reporte de las ventas por Categorias Por Tienda.\u001b[0m\n",
            "\n",
            "Categoría del Producto      Tienda 1     Tienda 2     Tienda 3     Tienda 4\n",
            "Artículos para el hogar       171          181          177          201\n",
            "Deportes y diversión          284          275          277          277\n",
            "Electrodomésticos             312          305          278          254\n",
            "Electrónicos                  448          422          451          451\n",
            "Instrumentos musicales        182          224          177          170\n",
            "Juguetes                      324          313          315          338\n",
            "Libros                        173          197          185          187\n",
            "Muebles                       465          442          499          480\n"
          ]
        }
      ]
    },
    {
      "cell_type": "markdown",
      "source": [
        "Se crea la función **Ventasxcategorias()** para obtener las **etiquetas** y las **ventas** por categiría de productos por tienda."
      ],
      "metadata": {
        "id": "v0G3C7ViSfe8"
      }
    },
    {
      "cell_type": "code",
      "source": [
        "def Ventasxcategorias(partienda):\n",
        "  etiquetas=[]\n",
        "  Ventas=[]\n",
        "  for i in range(len(partienda)):\n",
        "    Ventas.append(int(partienda['conteo'][i]))\n",
        "    etiquetas.append(partienda['Categoría del Producto'][i])\n",
        "  return etiquetas, Ventas"
      ],
      "metadata": {
        "id": "JaLFflRdRf96"
      },
      "execution_count": null,
      "outputs": []
    },
    {
      "cell_type": "markdown",
      "source": [
        "Se genera la gráfica para una mejor visualización de la información de las **Ventas por Categorías por Tienda**."
      ],
      "metadata": {
        "id": "qTDlC4FjQ0Cr"
      }
    },
    {
      "cell_type": "code",
      "source": [
        "import matplotlib.pyplot as plt\n",
        "import numpy as np\n",
        "etiquetas_T1,ventas_T1=Ventasxcategorias(Ventas_Categorias_Tienda_1)\n",
        "etiquetas_T2,ventas_T2=Ventasxcategorias(Ventas_Categorias_Tienda_2)\n",
        "etiquetas_T3,ventas_T3=Ventasxcategorias(Ventas_Categorias_Tienda_3)\n",
        "etiquetas_T4,ventas_T4=Ventasxcategorias(Ventas_Categorias_Tienda_4)\n",
        "\n",
        "x = np.arange(len(etiquetas_T1))  # the label locations\n",
        "width = 0.20  # the width of the bars\n",
        "\n",
        "fig, ax = plt.subplots()\n",
        "\n",
        "rects1 = ax.barh(x + width*1.5, ventas_T1, width, label='Tienda 1')\n",
        "rects2 = ax.barh(x + width/2, ventas_T2, width, label='Tienda 2')\n",
        "rects3 = ax.barh(x - width/2, ventas_T3, width, label='Tienda 3')\n",
        "rects4 = ax.barh(x - width*1.5, ventas_T4, width, label='Tienda 4')\n",
        "\n",
        "# Add some text for labels, title and custom x-axis tick labels, etc.\n",
        "ax.set_ylabel('Categorías')\n",
        "ax.set_title('Ventas por Categorías por tienda')\n",
        "#ax.set_xticks(x, men_means)\n",
        "ax.set_yticks(x, etiquetas_T1)\n",
        "ax.legend()\n",
        "\n",
        "ax.bar_label(rects1, padding=5)\n",
        "ax.bar_label(rects2, padding=5)\n",
        "ax.bar_label(rects3, padding=3)\n",
        "ax.bar_label(rects4, padding=3)\n",
        "\n",
        "fig.tight_layout()\n",
        "\n",
        "plt.show()"
      ],
      "metadata": {
        "colab": {
          "base_uri": "https://localhost:8080/",
          "height": 487
        },
        "id": "OyGgth1-Q47s",
        "outputId": "758b7f32-cf80-425f-99aa-db1be6876220"
      },
      "execution_count": null,
      "outputs": [
        {
          "output_type": "display_data",
          "data": {
            "text/plain": [
              "<Figure size 640x480 with 1 Axes>"
            ],
            "image/png": "[encoded data removed]"
          },
          "metadata": {}
        }
      ]
    },
    {
      "cell_type": "markdown",
      "source": [
        "# 3. Calificación promedio de la tienda\n"
      ],
      "metadata": {
        "id": "Rq6tU_xSY3jk"
      }
    },
    {
      "cell_type": "markdown",
      "source": [
        "Se calcula la **Calificación Promedio** de cada tienda."
      ],
      "metadata": {
        "id": "nDtnmXAtoAbV"
      }
    },
    {
      "cell_type": "code",
      "source": [
        "Promedio_calificacion_tienda_1 = round(sum(tienda['Calificación'])/len(tienda['Calificación']),2)\n",
        "Promedio_calificacion_tienda_2 = round(sum(tienda2['Calificación'])/len(tienda2['Calificación']),2)\n",
        "Promedio_calificacion_tienda_3 = round(sum(tienda3['Calificación'])/len(tienda3['Calificación']),2)\n",
        "Promedio_calificacion_tienda_4 = round(sum(tienda4['Calificación'])/len(tienda4['Calificación']),2)"
      ],
      "metadata": {
        "id": "bh3jjjJwY5MU"
      },
      "execution_count": null,
      "outputs": []
    },
    {
      "cell_type": "markdown",
      "source": [
        "Se genera el reporte de la calificación promedio por tienda."
      ],
      "metadata": {
        "id": "UOxinLzwjMez"
      }
    },
    {
      "cell_type": "code",
      "source": [
        "\n",
        "print('\\033[1m  Calificación Promedio por tienda.\\033[0m\\n')\n",
        "print(f'Calificación Promedio tienda 1: {Promedio_calificacion_tienda_1}')\n",
        "print(f'Calificación Promedio tienda 2: {Promedio_calificacion_tienda_2}')\n",
        "print(f'\\033[1mCalificación Promedio tienda 3: {Promedio_calificacion_tienda_3}\\033[0m')\n",
        "print(f'Calificación Promedio tienda 4: {Promedio_calificacion_tienda_4}')"
      ],
      "metadata": {
        "colab": {
          "base_uri": "https://localhost:8080/"
        },
        "id": "wheLgP9Mi4Ge",
        "outputId": "91885143-7e18-4a68-b0db-bf71ed9a4b87"
      },
      "execution_count": null,
      "outputs": [
        {
          "output_type": "stream",
          "name": "stdout",
          "text": [
            "\u001b[1m  Calificación Promedio por tienda.\u001b[0m\n",
            "\n",
            "Calificación Promedio tienda 1: 3.98\n",
            "Calificación Promedio tienda 2: 4.04\n",
            "\u001b[1mCalificación Promedio tienda 3: 4.05\u001b[0m\n",
            "Calificación Promedio tienda 4: 4.0\n"
          ]
        }
      ]
    },
    {
      "cell_type": "markdown",
      "source": [
        "Se obtiene que la **tienda 3** tiene el mejor promedio de calificación."
      ],
      "metadata": {
        "id": "d3FYHomGj0Mw"
      }
    },
    {
      "cell_type": "markdown",
      "source": [
        "# 4. Productos más y menos vendidos"
      ],
      "metadata": {
        "id": "DmNp1KPBZCm-"
      }
    },
    {
      "cell_type": "markdown",
      "source": [
        "Se crea la función **top_venta_producto()** para obtener los 5 primeros y los 5 últimos productos vendidos de cada tineda."
      ],
      "metadata": {
        "id": "T0hXBdkTLqOp"
      }
    },
    {
      "cell_type": "code",
      "source": [
        "def top_venta_producto(partienda):\n",
        "  Ventas_Producto = partienda['Producto'].value_counts().reset_index(name='conteo')\n",
        "  Ventas_Producto = Ventas_Producto.rename(columns={'index': 'Producto'})\n",
        "  producto=[]\n",
        "  max_min=[]\n",
        "  compara=Ventas_Producto['conteo'][0]\n",
        "  for i in range(len(Ventas_Producto)):\n",
        "    if i < 5 :\n",
        "      producto.append(Ventas_Producto['Producto'][i])\n",
        "      max_min.append(int(Ventas_Producto['conteo'][i]))\n",
        "    elif i > len(Ventas_Producto)-6:\n",
        "      producto.append(Ventas_Producto['Producto'][i])\n",
        "      max_min.append(int(Ventas_Producto['conteo'][i]))\n",
        "  return producto, max_min"
      ],
      "metadata": {
        "id": "qoyjqijQZHfF"
      },
      "execution_count": null,
      "outputs": []
    },
    {
      "cell_type": "markdown",
      "source": [
        "Se generan las listas con los 5 productos mas vendidos y los 5 productos menos vendos de las 4 tiendas."
      ],
      "metadata": {
        "id": "orPx8pPJQBsA"
      }
    },
    {
      "cell_type": "code",
      "source": [
        "top_ventas_producto_Tienda_1=top_venta_producto(tienda)\n",
        "top_ventas_producto_Tienda_2=top_venta_producto(tienda2)\n",
        "top_ventas_producto_Tienda_3=top_venta_producto(tienda3)\n",
        "top_ventas_producto_Tienda_4=top_venta_producto(tienda4)\n"
      ],
      "metadata": {
        "id": "0Sw3sd4IZIGW"
      },
      "execution_count": null,
      "outputs": []
    },
    {
      "cell_type": "markdown",
      "source": [
        "Se genera la función **imprime_top()** para estructurar el reporte del top 5 de los productos mas y menos vwendidos por tienda."
      ],
      "metadata": {
        "id": "3puxeSqdlSQg"
      }
    },
    {
      "cell_type": "code",
      "source": [
        "def imprime_top(paramtienda, titulotienda):\n",
        "  tamano=[len(paramtienda[0])]\n",
        "  #len(top_ventas_producto_Tienda_2[0]),len(top_ventas_producto_Tienda_3[0]),len(top_ventas_producto_Tienda_4[0])]\n",
        "  valor_maximo=max(tamano)\n",
        "  text=''\n",
        "  Tienda_texto=titulotienda\n",
        "  for i in range(int(valor_maximo/2)):\n",
        "    espacios=30-len(paramtienda[0][i])\n",
        "    espacios_min=30-len(paramtienda[0][i+5])+3\n",
        "    text=text+Tienda_texto+' '*5+paramtienda[0][i]+' '*espacios+str(paramtienda[1][i])+'  '*5+paramtienda[0][i+5]+' '*espacios_min+str(paramtienda[1][i+5])+'\\n'\n",
        "  return text\n"
      ],
      "metadata": {
        "id": "wAg3MMYsAdzD"
      },
      "execution_count": null,
      "outputs": []
    },
    {
      "cell_type": "markdown",
      "source": [
        "Se genera el reporte del **Top 5** de productos mas y menos vendidos por tienda."
      ],
      "metadata": {
        "id": "fLjHgHJnmSzA"
      }
    },
    {
      "cell_type": "code",
      "source": [
        "textt1=imprime_top(top_ventas_producto_Tienda_1,'Tienda 1')\n",
        "textt2=imprime_top(top_ventas_producto_Tienda_2,'Tienda 2')\n",
        "textt3=imprime_top(top_ventas_producto_Tienda_3,'Tienda 3')\n",
        "textt4=imprime_top(top_ventas_producto_Tienda_4,'Tienda 4')\n",
        "\n",
        "print('\\033[1m                Reporte de los 5 productos más y menos vendidos por tienda\\033[0m\\n')\n",
        "print(\"\\033[1m\" +'Tienda       Productos mas vendido        Total        Productos memos vendido        Total\\n'+ \"\\033[0m\")\n",
        "\n",
        "print(textt1)\n",
        "print(textt2)\n",
        "print(textt3)\n",
        "print(textt4)\n"
      ],
      "metadata": {
        "id": "70mw6Wituw-6",
        "colab": {
          "base_uri": "https://localhost:8080/"
        },
        "outputId": "dc305cb5-697f-447f-c2fe-cae96b529b89"
      },
      "execution_count": null,
      "outputs": [
        {
          "output_type": "stream",
          "name": "stdout",
          "text": [
            "\u001b[1m                Reporte de los 5 productos más y menos vendidos por tienda\u001b[0m\n",
            "\n",
            "\u001b[1mTienda       Productos mas vendido        Total        Productos memos vendido        Total\n",
            "\u001b[0m\n",
            "Tienda 1     Microondas                    60          Ciencia de datos con Python      39\n",
            "Tienda 1     TV LED UHD 4K                 60          Pandereta                        36\n",
            "Tienda 1     Armario                       60          Olla de presión                  35\n",
            "Tienda 1     Secadora de ropa              58          Auriculares con micrófono        33\n",
            "Tienda 1     Mesa de noche                 56          Celular ABXY                     33\n",
            "\n",
            "Tienda 2     Iniciando en programación     65          Auriculares                      37\n",
            "Tienda 2     Microondas                    62          Sillón                           35\n",
            "Tienda 2     Batería                       61          Mesa de comedor                  34\n",
            "Tienda 2     Guitarra acústica             58          Impresora                        34\n",
            "Tienda 2     Pandereta                     58          Juego de mesa                    32\n",
            "\n",
            "Tienda 3     Kit de bancas                 57          Guitarra eléctrica               38\n",
            "Tienda 3     Mesa de comedor               56          Set de vasos                     36\n",
            "Tienda 3     Cama king                     56          Mochila                          36\n",
            "Tienda 3     Set de ollas                  55          Microondas                       36\n",
            "Tienda 3     Mesa de noche                 55          Bloques de construcción          35\n",
            "\n",
            "Tienda 4     Cama box                      62          Refrigerador                     38\n",
            "Tienda 4     Cubertería                    59          Ciencia de datos con Python      38\n",
            "Tienda 4     Dashboards con Power BI       56          Guitarra acústica                37\n",
            "Tienda 4     Cama king                     56          Armario                          34\n",
            "Tienda 4     Carrito de control remoto     55          Guitarra eléctrica               33\n",
            "\n"
          ]
        }
      ]
    },
    {
      "cell_type": "markdown",
      "source": [
        "# 5. Envío promedio por tienda"
      ],
      "metadata": {
        "id": "Fl0cGi3bZKqU"
      }
    },
    {
      "cell_type": "code",
      "source": [
        "Promedio_costo_envio_tienda_1=round(sum(tienda['Costo de envío'])/len(tienda['Costo de envío']),2)\n",
        "Promedio_costo_envio_tienda_2=round(sum(tienda2['Costo de envío'])/len(tienda2['Costo de envío']),2)\n",
        "Promedio_costo_envio_tienda_3=round(sum(tienda3['Costo de envío'])/len(tienda3['Costo de envío']),2)\n",
        "Promedio_costo_envio_tienda_4=round(sum(tienda4['Costo de envío'])/len(tienda4['Costo de envío']),2)"
      ],
      "metadata": {
        "id": "7a6TKKldUFVk"
      },
      "execution_count": null,
      "outputs": []
    },
    {
      "cell_type": "markdown",
      "source": [
        "Se genera el **Reporte Del Promedio Del Costo Por Envío Por Tienda**."
      ],
      "metadata": {
        "id": "c44JtW3anZiV"
      }
    },
    {
      "cell_type": "code",
      "source": [
        "print('\\033[1mReporte Del Promedio Del Costo Por Envío Por Tienda\\033[0m\\n')\n",
        "print(f'          Tienda 1:      {Promedio_costo_envio_tienda_1}')\n",
        "print(f'          Tienda 2:      {Promedio_costo_envio_tienda_2}')\n",
        "print(f'          Tienda 3:      {Promedio_costo_envio_tienda_3}')\n",
        "print(f'          Tienda 4:      {Promedio_costo_envio_tienda_4}')\n"
      ],
      "metadata": {
        "id": "S2JeaCykZNy9",
        "colab": {
          "base_uri": "https://localhost:8080/"
        },
        "outputId": "97e45d51-bddd-4f82-ed65-9e75abf00780"
      },
      "execution_count": null,
      "outputs": [
        {
          "output_type": "stream",
          "name": "stdout",
          "text": [
            "\u001b[1mReporte Del Promedio Del Costo Por Envío Por Tienda\u001b[0m\n",
            "\n",
            "          Tienda 1:      26018.61\n",
            "          Tienda 2:      25216.24\n",
            "          Tienda 3:      24805.68\n",
            "          Tienda 4:      23459.46\n"
          ]
        }
      ]
    },
    {
      "cell_type": "markdown",
      "source": [
        "Se genera la gráfica de la información del **Promedio del Costo de Envio por Tienda**."
      ],
      "metadata": {
        "id": "I1GpY9ftMId6"
      }
    },
    {
      "cell_type": "code",
      "source": [
        "import matplotlib.pyplot as plt\n",
        "\n",
        "Tiendas= ['Tienda 1', 'Tienda 2', 'Tienda 3', 'Tienda 4']\n",
        "Promedio_Costo_Envio= [Promedio_costo_envio_tienda_1, Promedio_costo_envio_tienda_2, Promedio_costo_envio_tienda_3, Promedio_costo_envio_tienda_4]\n",
        "plt.bar(Tiendas, Promedio_Costo_Envio, color='skyblue')\n",
        "plt.xlabel('Tiendas')\n",
        "plt.ylabel('Promedio del Costo de Envio')\n",
        "plt.title('Promedio del Costo de Envio por Tienda')\n",
        "\n",
        "plt.show()\n"
      ],
      "metadata": {
        "colab": {
          "base_uri": "https://localhost:8080/",
          "height": 472
        },
        "id": "YCDtwEbYXMdG",
        "outputId": "bdaba23f-c316-41d7-f1a2-075764e1ca3a"
      },
      "execution_count": null,
      "outputs": [
        {
          "output_type": "display_data",
          "data": {
            "text/plain": [
              "<Figure size 640x480 with 1 Axes>"
            ],
            "image/png": "[encoded data removed]"
          },
          "metadata": {}
        }
      ]
    },
    {
      "cell_type": "markdown",
      "source": [
        "# Conclusión"
      ],
      "metadata": {
        "id": "oageq42qjdpU"
      }
    },
    {
      "cell_type": "markdown",
      "source": [
        "El análisis de la facturación de las cuatro tiendas nos muestra que la **tienda 1** tiene el mayor **Ingreso Neto**, el **Promedio del Costo de Envio por Tienda** más alto y la **Calificación Promedio por Tienda** más baja, **la tienda 4** tiene el menor **Ingreso Neto**, el **Promedio del Costo de Envio por Tienda** más bajo y la segunda **Calificación Promedio por Tienda** más baja, las **Tiendas 2, 3** se mantienen en una media entre las otras dos tiendas. Derivado de los puntos anteriores las **tienda 3 y 4** tienen una mejor ubicación.\n",
        "En recomendación al señor Juan se le pediría esperar uno o dos periodos de tiempo más para verificar bien las tendencias y asi tomar una mejor decisión."
      ],
      "metadata": {
        "id": "aj255ZeTjvjL"
      }
    }
  ]
}