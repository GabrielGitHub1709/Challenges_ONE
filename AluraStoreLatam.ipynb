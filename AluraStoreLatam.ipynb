{
  "nbformat": 4,
  "nbformat_minor": 0,
  "metadata": {
    "colab": {
      "provenance": []
    },
    "kernelspec": {
      "name": "python3",
      "display_name": "Python 3"
    },
    "language_info": {
      "name": "python"
    }
  },
  "cells": [
    {
      "cell_type": "markdown",
      "source": [
        "### Importación de datos\n",
        "\n"
      ],
      "metadata": {
        "id": "RhEdWd9YUR6H"
      }
    },
    {
      "cell_type": "code",
      "execution_count": 4,
      "metadata": {
        "colab": {
          "base_uri": "https://localhost:8080/",
          "height": 310
        },
        "id": "T3EvaeQ_INIL",
        "outputId": "92f43363-7202-4304-e5c8-a2da687bcfd8"
      },
      "outputs": [
        {
          "output_type": "execute_result",
          "data": {
            "text/plain": [
              "            Producto Categoría del Producto    Precio  Costo de envío  \\\n",
              "0  Asistente virtual           Electrónicos  164300.0          6900.0   \n",
              "1    Mesa de comedor                Muebles  192300.0          8400.0   \n",
              "2      Juego de mesa               Juguetes  209600.0         15900.0   \n",
              "3         Microondas      Electrodomésticos  757500.0         41000.0   \n",
              "4   Silla de oficina                Muebles  335200.0         20200.0   \n",
              "\n",
              "  Fecha de Compra         Vendedor Lugar de Compra  Calificación  \\\n",
              "0      16/01/2021      Pedro Gomez          Bogotá             4   \n",
              "1      18/05/2022  Beatriz Morales        Medellín             1   \n",
              "2      15/03/2021   Juan Fernandez       Cartagena             1   \n",
              "3      03/05/2022   Juan Fernandez            Cali             4   \n",
              "4      07/11/2020    Maria Alfonso        Medellín             5   \n",
              "\n",
              "       Método de pago  Cantidad de cuotas       lat       lon  \n",
              "0  Tarjeta de crédito                   8   4.60971 -74.08175  \n",
              "1  Tarjeta de crédito                   4   6.25184 -75.56359  \n",
              "2  Tarjeta de crédito                   1  10.39972 -75.51444  \n",
              "3               Nequi                   1   3.43722 -76.52250  \n",
              "4               Nequi                   1   6.25184 -75.56359  "
            ],
            "text/html": [
              "\n",
              "  <div id=\"df-c8098ccc-7863-4311-a5c0-a2e87b206479\" class=\"colab-df-container\">\n",
              "    <div>\n",
              "<style scoped>\n",
              "    .dataframe tbody tr th:only-of-type {\n",
              "        vertical-align: middle;\n",
              "    }\n",
              "\n",
              "    .dataframe tbody tr th {\n",
              "        vertical-align: top;\n",
              "    }\n",
              "\n",
              "    .dataframe thead th {\n",
              "        text-align: right;\n",
              "    }\n",
              "</style>\n",
              "<table border=\"1\" class=\"dataframe\">\n",
              "  <thead>\n",
              "    <tr style=\"text-align: right;\">\n",
              "      <th></th>\n",
              "      <th>Producto</th>\n",
              "      <th>Categoría del Producto</th>\n",
              "      <th>Precio</th>\n",
              "      <th>Costo de envío</th>\n",
              "      <th>Fecha de Compra</th>\n",
              "      <th>Vendedor</th>\n",
              "      <th>Lugar de Compra</th>\n",
              "      <th>Calificación</th>\n",
              "      <th>Método de pago</th>\n",
              "      <th>Cantidad de cuotas</th>\n",
              "      <th>lat</th>\n",
              "      <th>lon</th>\n",
              "    </tr>\n",
              "  </thead>\n",
              "  <tbody>\n",
              "    <tr>\n",
              "      <th>0</th>\n",
              "      <td>Asistente virtual</td>\n",
              "      <td>Electrónicos</td>\n",
              "      <td>164300.0</td>\n",
              "      <td>6900.0</td>\n",
              "      <td>16/01/2021</td>\n",
              "      <td>Pedro Gomez</td>\n",
              "      <td>Bogotá</td>\n",
              "      <td>4</td>\n",
              "      <td>Tarjeta de crédito</td>\n",
              "      <td>8</td>\n",
              "      <td>4.60971</td>\n",
              "      <td>-74.08175</td>\n",
              "    </tr>\n",
              "    <tr>\n",
              "      <th>1</th>\n",
              "      <td>Mesa de comedor</td>\n",
              "      <td>Muebles</td>\n",
              "      <td>192300.0</td>\n",
              "      <td>8400.0</td>\n",
              "      <td>18/05/2022</td>\n",
              "      <td>Beatriz Morales</td>\n",
              "      <td>Medellín</td>\n",
              "      <td>1</td>\n",
              "      <td>Tarjeta de crédito</td>\n",
              "      <td>4</td>\n",
              "      <td>6.25184</td>\n",
              "      <td>-75.56359</td>\n",
              "    </tr>\n",
              "    <tr>\n",
              "      <th>2</th>\n",
              "      <td>Juego de mesa</td>\n",
              "      <td>Juguetes</td>\n",
              "      <td>209600.0</td>\n",
              "      <td>15900.0</td>\n",
              "      <td>15/03/2021</td>\n",
              "      <td>Juan Fernandez</td>\n",
              "      <td>Cartagena</td>\n",
              "      <td>1</td>\n",
              "      <td>Tarjeta de crédito</td>\n",
              "      <td>1</td>\n",
              "      <td>10.39972</td>\n",
              "      <td>-75.51444</td>\n",
              "    </tr>\n",
              "    <tr>\n",
              "      <th>3</th>\n",
              "      <td>Microondas</td>\n",
              "      <td>Electrodomésticos</td>\n",
              "      <td>757500.0</td>\n",
              "      <td>41000.0</td>\n",
              "      <td>03/05/2022</td>\n",
              "      <td>Juan Fernandez</td>\n",
              "      <td>Cali</td>\n",
              "      <td>4</td>\n",
              "      <td>Nequi</td>\n",
              "      <td>1</td>\n",
              "      <td>3.43722</td>\n",
              "      <td>-76.52250</td>\n",
              "    </tr>\n",
              "    <tr>\n",
              "      <th>4</th>\n",
              "      <td>Silla de oficina</td>\n",
              "      <td>Muebles</td>\n",
              "      <td>335200.0</td>\n",
              "      <td>20200.0</td>\n",
              "      <td>07/11/2020</td>\n",
              "      <td>Maria Alfonso</td>\n",
              "      <td>Medellín</td>\n",
              "      <td>5</td>\n",
              "      <td>Nequi</td>\n",
              "      <td>1</td>\n",
              "      <td>6.25184</td>\n",
              "      <td>-75.56359</td>\n",
              "    </tr>\n",
              "  </tbody>\n",
              "</table>\n",
              "</div>\n",
              "    <div class=\"colab-df-buttons\">\n",
              "\n",
              "  <div class=\"colab-df-container\">\n",
              "    <button class=\"colab-df-convert\" onclick=\"convertToInteractive('df-c8098ccc-7863-4311-a5c0-a2e87b206479')\"\n",
              "            title=\"Convert this dataframe to an interactive table.\"\n",
              "            style=\"display:none;\">\n",
              "\n",
              "  <svg xmlns=\"http://www.w3.org/2000/svg\" height=\"24px\" viewBox=\"0 -960 960 960\">\n",
              "    <path d=\"M120-120v-720h720v720H120Zm60-500h600v-160H180v160Zm220 220h160v-160H400v160Zm0 220h160v-160H400v160ZM180-400h160v-160H180v160Zm440 0h160v-160H620v160ZM180-180h160v-160H180v160Zm440 0h160v-160H620v160Z\"/>\n",
              "  </svg>\n",
              "    </button>\n",
              "\n",
              "  <style>\n",
              "    .colab-df-container {\n",
              "      display:flex;\n",
              "      gap: 12px;\n",
              "    }\n",
              "\n",
              "    .colab-df-convert {\n",
              "      background-color: #E8F0FE;\n",
              "      border: none;\n",
              "      border-radius: 50%;\n",
              "      cursor: pointer;\n",
              "      display: none;\n",
              "      fill: #1967D2;\n",
              "      height: 32px;\n",
              "      padding: 0 0 0 0;\n",
              "      width: 32px;\n",
              "    }\n",
              "\n",
              "    .colab-df-convert:hover {\n",
              "      background-color: #E2EBFA;\n",
              "      box-shadow: 0px 1px 2px rgba(60, 64, 67, 0.3), 0px 1px 3px 1px rgba(60, 64, 67, 0.15);\n",
              "      fill: #174EA6;\n",
              "    }\n",
              "\n",
              "    .colab-df-buttons div {\n",
              "      margin-bottom: 4px;\n",
              "    }\n",
              "\n",
              "    [theme=dark] .colab-df-convert {\n",
              "      background-color: #3B4455;\n",
              "      fill: #D2E3FC;\n",
              "    }\n",
              "\n",
              "    [theme=dark] .colab-df-convert:hover {\n",
              "      background-color: #434B5C;\n",
              "      box-shadow: 0px 1px 3px 1px rgba(0, 0, 0, 0.15);\n",
              "      filter: drop-shadow(0px 1px 2px rgba(0, 0, 0, 0.3));\n",
              "      fill: #FFFFFF;\n",
              "    }\n",
              "  </style>\n",
              "\n",
              "    <script>\n",
              "      const buttonEl =\n",
              "        document.querySelector('#df-c8098ccc-7863-4311-a5c0-a2e87b206479 button.colab-df-convert');\n",
              "      buttonEl.style.display =\n",
              "        google.colab.kernel.accessAllowed ? 'block' : 'none';\n",
              "\n",
              "      async function convertToInteractive(key) {\n",
              "        const element = document.querySelector('#df-c8098ccc-7863-4311-a5c0-a2e87b206479');\n",
              "        const dataTable =\n",
              "          await google.colab.kernel.invokeFunction('convertToInteractive',\n",
              "                                                    [key], {});\n",
              "        if (!dataTable) return;\n",
              "\n",
              "        const docLinkHtml = 'Like what you see? Visit the ' +\n",
              "          '<a target=\"_blank\" href=https://colab.research.google.com/notebooks/data_table.ipynb>data table notebook</a>'\n",
              "          + ' to learn more about interactive tables.';\n",
              "        element.innerHTML = '';\n",
              "        dataTable['output_type'] = 'display_data';\n",
              "        await google.colab.output.renderOutput(dataTable, element);\n",
              "        const docLink = document.createElement('div');\n",
              "        docLink.innerHTML = docLinkHtml;\n",
              "        element.appendChild(docLink);\n",
              "      }\n",
              "    </script>\n",
              "  </div>\n",
              "\n",
              "\n",
              "    <div id=\"df-edcdb66d-5b65-4672-8f1d-cff7255dec18\">\n",
              "      <button class=\"colab-df-quickchart\" onclick=\"quickchart('df-edcdb66d-5b65-4672-8f1d-cff7255dec18')\"\n",
              "                title=\"Suggest charts\"\n",
              "                style=\"display:none;\">\n",
              "\n",
              "<svg xmlns=\"http://www.w3.org/2000/svg\" height=\"24px\"viewBox=\"0 0 24 24\"\n",
              "     width=\"24px\">\n",
              "    <g>\n",
              "        <path d=\"M19 3H5c-1.1 0-2 .9-2 2v14c0 1.1.9 2 2 2h14c1.1 0 2-.9 2-2V5c0-1.1-.9-2-2-2zM9 17H7v-7h2v7zm4 0h-2V7h2v10zm4 0h-2v-4h2v4z\"/>\n",
              "    </g>\n",
              "</svg>\n",
              "      </button>\n",
              "\n",
              "<style>\n",
              "  .colab-df-quickchart {\n",
              "      --bg-color: #E8F0FE;\n",
              "      --fill-color: #1967D2;\n",
              "      --hover-bg-color: #E2EBFA;\n",
              "      --hover-fill-color: #174EA6;\n",
              "      --disabled-fill-color: #AAA;\n",
              "      --disabled-bg-color: #DDD;\n",
              "  }\n",
              "\n",
              "  [theme=dark] .colab-df-quickchart {\n",
              "      --bg-color: #3B4455;\n",
              "      --fill-color: #D2E3FC;\n",
              "      --hover-bg-color: #434B5C;\n",
              "      --hover-fill-color: #FFFFFF;\n",
              "      --disabled-bg-color: #3B4455;\n",
              "      --disabled-fill-color: #666;\n",
              "  }\n",
              "\n",
              "  .colab-df-quickchart {\n",
              "    background-color: var(--bg-color);\n",
              "    border: none;\n",
              "    border-radius: 50%;\n",
              "    cursor: pointer;\n",
              "    display: none;\n",
              "    fill: var(--fill-color);\n",
              "    height: 32px;\n",
              "    padding: 0;\n",
              "    width: 32px;\n",
              "  }\n",
              "\n",
              "  .colab-df-quickchart:hover {\n",
              "    background-color: var(--hover-bg-color);\n",
              "    box-shadow: 0 1px 2px rgba(60, 64, 67, 0.3), 0 1px 3px 1px rgba(60, 64, 67, 0.15);\n",
              "    fill: var(--button-hover-fill-color);\n",
              "  }\n",
              "\n",
              "  .colab-df-quickchart-complete:disabled,\n",
              "  .colab-df-quickchart-complete:disabled:hover {\n",
              "    background-color: var(--disabled-bg-color);\n",
              "    fill: var(--disabled-fill-color);\n",
              "    box-shadow: none;\n",
              "  }\n",
              "\n",
              "  .colab-df-spinner {\n",
              "    border: 2px solid var(--fill-color);\n",
              "    border-color: transparent;\n",
              "    border-bottom-color: var(--fill-color);\n",
              "    animation:\n",
              "      spin 1s steps(1) infinite;\n",
              "  }\n",
              "\n",
              "  @keyframes spin {\n",
              "    0% {\n",
              "      border-color: transparent;\n",
              "      border-bottom-color: var(--fill-color);\n",
              "      border-left-color: var(--fill-color);\n",
              "    }\n",
              "    20% {\n",
              "      border-color: transparent;\n",
              "      border-left-color: var(--fill-color);\n",
              "      border-top-color: var(--fill-color);\n",
              "    }\n",
              "    30% {\n",
              "      border-color: transparent;\n",
              "      border-left-color: var(--fill-color);\n",
              "      border-top-color: var(--fill-color);\n",
              "      border-right-color: var(--fill-color);\n",
              "    }\n",
              "    40% {\n",
              "      border-color: transparent;\n",
              "      border-right-color: var(--fill-color);\n",
              "      border-top-color: var(--fill-color);\n",
              "    }\n",
              "    60% {\n",
              "      border-color: transparent;\n",
              "      border-right-color: var(--fill-color);\n",
              "    }\n",
              "    80% {\n",
              "      border-color: transparent;\n",
              "      border-right-color: var(--fill-color);\n",
              "      border-bottom-color: var(--fill-color);\n",
              "    }\n",
              "    90% {\n",
              "      border-color: transparent;\n",
              "      border-bottom-color: var(--fill-color);\n",
              "    }\n",
              "  }\n",
              "</style>\n",
              "\n",
              "      <script>\n",
              "        async function quickchart(key) {\n",
              "          const quickchartButtonEl =\n",
              "            document.querySelector('#' + key + ' button');\n",
              "          quickchartButtonEl.disabled = true;  // To prevent multiple clicks.\n",
              "          quickchartButtonEl.classList.add('colab-df-spinner');\n",
              "          try {\n",
              "            const charts = await google.colab.kernel.invokeFunction(\n",
              "                'suggestCharts', [key], {});\n",
              "          } catch (error) {\n",
              "            console.error('Error during call to suggestCharts:', error);\n",
              "          }\n",
              "          quickchartButtonEl.classList.remove('colab-df-spinner');\n",
              "          quickchartButtonEl.classList.add('colab-df-quickchart-complete');\n",
              "        }\n",
              "        (() => {\n",
              "          let quickchartButtonEl =\n",
              "            document.querySelector('#df-edcdb66d-5b65-4672-8f1d-cff7255dec18 button');\n",
              "          quickchartButtonEl.style.display =\n",
              "            google.colab.kernel.accessAllowed ? 'block' : 'none';\n",
              "        })();\n",
              "      </script>\n",
              "    </div>\n",
              "\n",
              "    </div>\n",
              "  </div>\n"
            ],
            "application/vnd.google.colaboratory.intrinsic+json": {
              "type": "dataframe",
              "variable_name": "tienda",
              "summary": "{\n  \"name\": \"tienda\",\n  \"rows\": 2359,\n  \"fields\": [\n    {\n      \"column\": \"Producto\",\n      \"properties\": {\n        \"dtype\": \"category\",\n        \"num_unique_values\": 51,\n        \"samples\": [\n          \"Guitarra ac\\u00fastica\",\n          \"Bal\\u00f3n de baloncesto\",\n          \"Smartwatch\"\n        ],\n        \"semantic_type\": \"\",\n        \"description\": \"\"\n      }\n    },\n    {\n      \"column\": \"Categor\\u00eda del Producto\",\n      \"properties\": {\n        \"dtype\": \"category\",\n        \"num_unique_values\": 8,\n        \"samples\": [\n          \"Muebles\",\n          \"Deportes y diversi\\u00f3n\",\n          \"Electr\\u00f3nicos\"\n        ],\n        \"semantic_type\": \"\",\n        \"description\": \"\"\n      }\n    },\n    {\n      \"column\": \"Precio\",\n      \"properties\": {\n        \"dtype\": \"number\",\n        \"std\": 614686.7653873172,\n        \"min\": 7600.0,\n        \"max\": 2977000.0,\n        \"num_unique_values\": 1937,\n        \"samples\": [\n          2499400.0,\n          14800.0,\n          80500.0\n        ],\n        \"semantic_type\": \"\",\n        \"description\": \"\"\n      }\n    },\n    {\n      \"column\": \"Costo de env\\u00edo\",\n      \"properties\": {\n        \"dtype\": \"number\",\n        \"std\": 32860.0017825605,\n        \"min\": 0.0,\n        \"max\": 160800.0,\n        \"num_unique_values\": 753,\n        \"samples\": [\n          117800.0,\n          54700.0,\n          45600.0\n        ],\n        \"semantic_type\": \"\",\n        \"description\": \"\"\n      }\n    },\n    {\n      \"column\": \"Fecha de Compra\",\n      \"properties\": {\n        \"dtype\": \"object\",\n        \"num_unique_values\": 1018,\n        \"samples\": [\n          \"15/09/2022\",\n          \"03/06/2020\",\n          \"06/11/2021\"\n        ],\n        \"semantic_type\": \"\",\n        \"description\": \"\"\n      }\n    },\n    {\n      \"column\": \"Vendedor\",\n      \"properties\": {\n        \"dtype\": \"category\",\n        \"num_unique_values\": 14,\n        \"samples\": [\n          \"Juliana Costa\",\n          \"Mariana Herrera\",\n          \"Pedro Gomez\"\n        ],\n        \"semantic_type\": \"\",\n        \"description\": \"\"\n      }\n    },\n    {\n      \"column\": \"Lugar de Compra\",\n      \"properties\": {\n        \"dtype\": \"category\",\n        \"num_unique_values\": 19,\n        \"samples\": [\n          \"Bogot\\u00e1\",\n          \"Pereira\",\n          \"Neiva\"\n        ],\n        \"semantic_type\": \"\",\n        \"description\": \"\"\n      }\n    },\n    {\n      \"column\": \"Calificaci\\u00f3n\",\n      \"properties\": {\n        \"dtype\": \"number\",\n        \"std\": 1,\n        \"min\": 1,\n        \"max\": 5,\n        \"num_unique_values\": 5,\n        \"samples\": [\n          1,\n          2,\n          5\n        ],\n        \"semantic_type\": \"\",\n        \"description\": \"\"\n      }\n    },\n    {\n      \"column\": \"M\\u00e9todo de pago\",\n      \"properties\": {\n        \"dtype\": \"category\",\n        \"num_unique_values\": 4,\n        \"samples\": [\n          \"Nequi\",\n          \"Tarjeta de d\\u00e9bito\",\n          \"Tarjeta de cr\\u00e9dito\"\n        ],\n        \"semantic_type\": \"\",\n        \"description\": \"\"\n      }\n    },\n    {\n      \"column\": \"Cantidad de cuotas\",\n      \"properties\": {\n        \"dtype\": \"number\",\n        \"std\": 2,\n        \"min\": 1,\n        \"max\": 24,\n        \"num_unique_values\": 15,\n        \"samples\": [\n          7,\n          14,\n          8\n        ],\n        \"semantic_type\": \"\",\n        \"description\": \"\"\n      }\n    },\n    {\n      \"column\": \"lat\",\n      \"properties\": {\n        \"dtype\": \"number\",\n        \"std\": 2.2874452492678627,\n        \"min\": -4.21528,\n        \"max\": 11.54444,\n        \"num_unique_values\": 19,\n        \"samples\": [\n          4.60971,\n          4.81333,\n          2.9273\n        ],\n        \"semantic_type\": \"\",\n        \"description\": \"\"\n      }\n    },\n    {\n      \"column\": \"lon\",\n      \"properties\": {\n        \"dtype\": \"number\",\n        \"std\": 1.2178272727088486,\n        \"min\": -77.28111,\n        \"max\": -67.9239,\n        \"num_unique_values\": 19,\n        \"samples\": [\n          -74.08175,\n          -75.69611,\n          -75.28189\n        ],\n        \"semantic_type\": \"\",\n        \"description\": \"\"\n      }\n    }\n  ]\n}"
            }
          },
          "metadata": {},
          "execution_count": 4
        }
      ],
      "source": [
        "import pandas as pd\n",
        "\n",
        "url = \"https://raw.githubusercontent.com/alura-es-cursos/challenge1-data-science-latam/refs/heads/main/base-de-datos-challenge1-latam/tienda_1%20.csv\"\n",
        "url2 = \"https://raw.githubusercontent.com/alura-es-cursos/challenge1-data-science-latam/refs/heads/main/base-de-datos-challenge1-latam/tienda_2.csv\"\n",
        "url3 = \"https://raw.githubusercontent.com/alura-es-cursos/challenge1-data-science-latam/refs/heads/main/base-de-datos-challenge1-latam/tienda_3.csv\"\n",
        "url4 = \"https://raw.githubusercontent.com/alura-es-cursos/challenge1-data-science-latam/refs/heads/main/base-de-datos-challenge1-latam/tienda_4.csv\"\n",
        "\n",
        "tienda = pd.read_csv(url)\n",
        "tienda2 = pd.read_csv(url2)\n",
        "tienda3 = pd.read_csv(url3)\n",
        "tienda4 = pd.read_csv(url4)\n",
        "\n",
        "tienda.head()"
      ]
    },
    {
      "cell_type": "markdown",
      "source": [
        "#1. Análisis de facturación\n",
        "\n"
      ],
      "metadata": {
        "id": "X62IW3KFUIYm"
      }
    },
    {
      "cell_type": "markdown",
      "source": [
        "Se calcula el **Ingreso total**, el **Costo de envio** y se obtiene la diferencia resultando el **Ingreso neto** de cada tienda."
      ],
      "metadata": {
        "id": "DCTaq441BM8O"
      }
    },
    {
      "cell_type": "code",
      "source": [
        "ingreso_total_tienda_1 = sum(tienda.Precio)\n",
        "costo_envio_tienda_1 = sum(tienda['Costo de envío'])\n",
        "Ingreso_Neto_tienda_1 = ingreso_total_tienda_1 - costo_envio_tienda_1\n",
        "\n",
        "ingreso_total_tienda_2 = sum(tienda2.Precio)\n",
        "costo_envio_tienda_2 = sum(tienda2['Costo de envío'])\n",
        "Ingreso_Neto_tienda_2 = ingreso_total_tienda_2 - costo_envio_tienda_2\n",
        "\n",
        "ingreso_total_tienda_3 = sum(tienda3.Precio)\n",
        "costo_envio_tienda_3 = sum(tienda3['Costo de envío'])\n",
        "Ingreso_Neto_tienda_3 = ingreso_total_tienda_3 - costo_envio_tienda_3\n",
        "\n",
        "ingreso_total_tienda_4 = sum(tienda4.Precio)\n",
        "costo_envio_tienda_4 = sum(tienda4['Costo de envío'])\n",
        "Ingreso_Neto_tienda_4 = ingreso_total_tienda_4 - costo_envio_tienda_4\n",
        "\n",
        "print('             Ingreso          Costo de Envio          Ingreso Neto\\n')\n",
        "print(f'Tienda 1: {ingreso_total_tienda_1}          {costo_envio_tienda_1}            {Ingreso_Neto_tienda_1}')\n",
        "print(f'Tienda 2: {ingreso_total_tienda_2}          {costo_envio_tienda_2}            {Ingreso_Neto_tienda_2}')\n",
        "print(f'Tienda 3: {ingreso_total_tienda_3}          {costo_envio_tienda_3}            {Ingreso_Neto_tienda_3}')\n",
        "print(\"\\033[1m\" + f'Tienda 4: {ingreso_total_tienda_4}          {costo_envio_tienda_4}             {Ingreso_Neto_tienda_4}'+ \"\\033[0m\")"
      ],
      "metadata": {
        "id": "xykobSftV64I",
        "colab": {
          "base_uri": "https://localhost:8080/"
        },
        "outputId": "75f79ed1-b0b0-4e65-b968-b3db5b2da87d"
      },
      "execution_count": 5,
      "outputs": [
        {
          "output_type": "stream",
          "name": "stdout",
          "text": [
            "             Ingreso          Costo de Envio          Ingreso Neto\n",
            "\n",
            "Tienda 1: 1150880400.0          61377900.0            1089502500.0\n",
            "Tienda 2: 1116343500.0          59485100.0            1056858400.0\n",
            "Tienda 3: 1098019600.0          58516600.0            1039503000.0\n",
            "\u001b[1mTienda 4: 1038375700.0          55317400.0             983058300.0\u001b[0m\n"
          ]
        }
      ]
    },
    {
      "cell_type": "markdown",
      "source": [
        "Se comparan los **Ingreso netos** de las 4 tiendas y se determina que la tienda con menores **Ingresos netos** es la tienda **4**."
      ],
      "metadata": {
        "id": "MJh05SBs_xLT"
      }
    },
    {
      "cell_type": "markdown",
      "source": [
        "# 2. Ventas por categoría"
      ],
      "metadata": {
        "id": "2V_vcAPzWZmR"
      }
    },
    {
      "cell_type": "markdown",
      "source": [
        "Se crea la función para obtener los productos vendidos en las tiendas por categoria"
      ],
      "metadata": {
        "id": "nPFKJvO5RSap"
      }
    },
    {
      "cell_type": "code",
      "source": [
        "def Ventas_Categorias(partienda):\n",
        "  Ventas_Categorias = partienda['Categoría del Producto'].groupby(partienda['Categoría del Producto']).size().reset_index(name='conteo')\n",
        "  Ventas_Categorias = Ventas_Categorias.sort_values(by='Categoría del Producto')\n",
        "  return Ventas_Categorias\n"
      ],
      "metadata": {
        "id": "4ot-zI9N645f"
      },
      "execution_count": 6,
      "outputs": []
    },
    {
      "cell_type": "markdown",
      "source": [
        "Se obtienen los productos vendidos en las tiendas por categoria"
      ],
      "metadata": {
        "id": "C82MgqpxRqlt"
      }
    },
    {
      "cell_type": "code",
      "source": [
        "  Ventas_Categorias_Tienda_1=Ventas_Categorias(tienda)\n",
        "  Ventas_Categorias_Tienda_2=Ventas_Categorias(tienda2)\n",
        "  Ventas_Categorias_Tienda_3=Ventas_Categorias(tienda3)\n",
        "  Ventas_Categorias_Tienda_4=Ventas_Categorias(tienda4)"
      ],
      "metadata": {
        "id": "TbnbvmAq-pHs"
      },
      "execution_count": 7,
      "outputs": []
    },
    {
      "cell_type": "markdown",
      "source": [
        "Se genera el reporte de las ventas por categoria de las 4 tiendas ordenados por categoria del producto."
      ],
      "metadata": {
        "id": "HsijIhhySAkt"
      }
    },
    {
      "cell_type": "code",
      "source": [
        "  categorias=[]\n",
        "  ventas=[]\n",
        "  ventas_2=[]\n",
        "  ventas_3=[]\n",
        "  ventas_4=[]\n",
        "  for i in range(len(Ventas_Categorias_Tienda_1)):\n",
        "    categorias.append(Ventas_Categorias_Tienda_1['Categoría del Producto'][i])\n",
        "    ventas.append(int(Ventas_Categorias_Tienda_1['conteo'][i]))\n",
        "    ventas_2.append(int(Ventas_Categorias_Tienda_2['conteo'][i]))\n",
        "    ventas_3.append(int(Ventas_Categorias_Tienda_3['conteo'][i]))\n",
        "    ventas_4.append(int(Ventas_Categorias_Tienda_4['conteo'][i]))\n",
        "#  print(categorias)\n",
        "  print('Categoría del Producto      Tienda 1     Tienda 2     Tienda 3     Tienda 4')\n",
        "  for i in range(len(categorias)):\n",
        "    espacios=30-len(categorias[i])\n",
        "    text=categorias[i]+' '*espacios+str(ventas[i])+' '*10+str(ventas_2[i])+' '*10+str(ventas_3[i])+' '*10+str(ventas_4[i])\n",
        "    print(text)\n"
      ],
      "metadata": {
        "colab": {
          "base_uri": "https://localhost:8080/"
        },
        "id": "5FhVlvno-jtX",
        "outputId": "c0929585-3b1e-4727-e91f-3aaf96c65266"
      },
      "execution_count": 8,
      "outputs": [
        {
          "output_type": "stream",
          "name": "stdout",
          "text": [
            "Categoría del Producto      Tienda 1     Tienda 2     Tienda 3     Tienda 4\n",
            "Artículos para el hogar       171          181          177          201\n",
            "Deportes y diversión          284          275          277          277\n",
            "Electrodomésticos             312          305          278          254\n",
            "Electrónicos                  448          422          451          451\n",
            "Instrumentos musicales        182          224          177          170\n",
            "Juguetes                      324          313          315          338\n",
            "Libros                        173          197          185          187\n",
            "Muebles                       465          442          499          480\n"
          ]
        }
      ]
    },
    {
      "cell_type": "markdown",
      "source": [
        "Se crea la función **Ventasxcategorias()** para obtener las **etiquetas** y las **ventas** por categiría de productos por tienda."
      ],
      "metadata": {
        "id": "v0G3C7ViSfe8"
      }
    },
    {
      "cell_type": "code",
      "source": [
        "def Ventasxcategorias(partienda):\n",
        "  etiquetas=[]\n",
        "  Ventas=[]\n",
        "  for i in range(len(partienda)):\n",
        "    Ventas.append(int(partienda['conteo'][i]))\n",
        "    etiquetas.append(partienda['Categoría del Producto'][i])\n",
        "  return etiquetas, Ventas"
      ],
      "metadata": {
        "id": "JaLFflRdRf96"
      },
      "execution_count": 12,
      "outputs": []
    },
    {
      "cell_type": "markdown",
      "source": [
        "Se genera la grafica para una mejor visualización de la información de las ventas por categorías por tiendas."
      ],
      "metadata": {
        "id": "qTDlC4FjQ0Cr"
      }
    },
    {
      "cell_type": "code",
      "source": [
        "import matplotlib.pyplot as plt\n",
        "import numpy as np\n",
        "etiquetas_T1,ventas_T1=Ventasxcategorias(Ventas_Categorias_Tienda_1)\n",
        "etiquetas_T2,ventas_T2=Ventasxcategorias(Ventas_Categorias_Tienda_2)\n",
        "etiquetas_T3,ventas_T3=Ventasxcategorias(Ventas_Categorias_Tienda_3)\n",
        "etiquetas_T4,ventas_T4=Ventasxcategorias(Ventas_Categorias_Tienda_4)\n",
        "\n",
        "x = np.arange(len(etiquetas_T1))  # the label locations\n",
        "width = 0.20  # the width of the bars\n",
        "\n",
        "fig, ax = plt.subplots()\n",
        "\n",
        "rects1 = ax.barh(x + width*1.5, ventas_T1, width, label='Tienda 1')\n",
        "rects2 = ax.barh(x + width/2, ventas_T2, width, label='Tienda 2')\n",
        "rects3 = ax.barh(x - width/2, ventas_T3, width, label='Tienda 3')\n",
        "rects4 = ax.barh(x - width*1.5, ventas_T4, width, label='Tienda 4')\n",
        "\n",
        "# Add some text for labels, title and custom x-axis tick labels, etc.\n",
        "ax.set_ylabel('Categorías')\n",
        "ax.set_title('Ventas por Categorías por tienda')\n",
        "#ax.set_xticks(x, men_means)\n",
        "ax.set_yticks(x, etiquetas_T1)\n",
        "ax.legend()\n",
        "\n",
        "ax.bar_label(rects1, padding=5)\n",
        "ax.bar_label(rects2, padding=5)\n",
        "ax.bar_label(rects3, padding=3)\n",
        "ax.bar_label(rects4, padding=3)\n",
        "\n",
        "fig.tight_layout()\n",
        "\n",
        "plt.show()"
      ],
      "metadata": {
        "colab": {
          "base_uri": "https://localhost:8080/",
          "height": 487
        },
        "id": "OyGgth1-Q47s",
        "outputId": "42afe705-8dce-4204-a5cb-c20263aa45ce"
      },
      "execution_count": 19,
      "outputs": [
        {
          "output_type": "display_data",
          "data": {
            "text/plain": [
              "<Figure size 640x480 with 1 Axes>"
            ],
            "image/png": "[encoded data removed]"
          },
          "metadata": {}
        }
      ]
    },
    {
      "cell_type": "markdown",
      "source": [
        "# 3. Calificación promedio de la tienda\n"
      ],
      "metadata": {
        "id": "Rq6tU_xSY3jk"
      }
    },
    {
      "cell_type": "markdown",
      "source": [
        "Se calcula la **Calificación Promedio** de cada tienda."
      ],
      "metadata": {
        "id": "nDtnmXAtoAbV"
      }
    },
    {
      "cell_type": "code",
      "source": [
        "print('Calificaciòn Promedio por tienda\\n')\n",
        "Promedio_calificacion_tienda_1 = round(sum(tienda['Calificación'])/len(tienda['Calificación']),2)\n",
        "print(f'Calificación Promedio tienda 1: {Promedio_calificacion_tienda_1}')\n",
        "Promedio_calificacion_tienda_2 = round(sum(tienda2['Calificación'])/len(tienda2['Calificación']),2)\n",
        "print(f'Calificación Promedio tienda 2: {Promedio_calificacion_tienda_2}')\n",
        "Promedio_calificacion_tienda_3 = round(sum(tienda3['Calificación'])/len(tienda3['Calificación']),2)\n",
        "print(f'Calificación Promedio tienda 3: {Promedio_calificacion_tienda_3}')\n",
        "Promedio_calificacion_tienda_4 = round(sum(tienda4['Calificación'])/len(tienda4['Calificación']),2)\n",
        "print(f'Calificación Promedio tienda 4: {Promedio_calificacion_tienda_4}')"
      ],
      "metadata": {
        "id": "bh3jjjJwY5MU",
        "colab": {
          "base_uri": "https://localhost:8080/"
        },
        "outputId": "c6619e2d-2e1e-413e-cf87-3ce257afdbae"
      },
      "execution_count": null,
      "outputs": [
        {
          "output_type": "stream",
          "name": "stdout",
          "text": [
            "Calificaciòn Promedio por tienda\n",
            "\n",
            "Calificación Promedio tienda 1: 3.98\n",
            "Calificación Promedio tienda 2: 4.04\n",
            "Calificación Promedio tienda 3: 4.05\n",
            "Calificación Promedio tienda 4: 4.0\n"
          ]
        }
      ]
    },
    {
      "cell_type": "markdown",
      "source": [
        "# 4. Productos más y menos vendidos"
      ],
      "metadata": {
        "id": "DmNp1KPBZCm-"
      }
    },
    {
      "cell_type": "code",
      "source": [
        "def Ventas_Producto(partienda):\n",
        "  Ventas_Producto = partienda['Producto'].value_counts().reset_index(name='conteo')\n",
        "  Ventas_Producto = Ventas_Producto.rename(columns={'index': 'Producto'})\n",
        "  producto=[]\n",
        "  max_min=[]\n",
        "  compara=Ventas_Producto['conteo'][0]\n",
        "  for i in range(len(Ventas_Producto)):\n",
        "    if i==0 or compara==Ventas_Producto['conteo'][i]:\n",
        "      producto.append(Ventas_Producto['Producto'][i])\n",
        "      max_min.append(int(Ventas_Producto['conteo'][i]))\n",
        "    elif i==len(Ventas_Producto)-1:\n",
        "      producto.append(Ventas_Producto['Producto'][i])\n",
        "      max_min.append(int(Ventas_Producto['conteo'][i]))\n",
        "  return producto, max_min"
      ],
      "metadata": {
        "id": "qoyjqijQZHfF"
      },
      "execution_count": null,
      "outputs": []
    },
    {
      "cell_type": "code",
      "source": [
        "Ventas_Producto_Tienda_1=Ventas_Producto(tienda)\n",
        "Ventas_Producto_Tienda_2=Ventas_Producto(tienda2)\n",
        "Ventas_Producto_Tienda_3=Ventas_Producto(tienda3)\n",
        "Ventas_Producto_Tienda_4=Ventas_Producto(tienda4)"
      ],
      "metadata": {
        "id": "0Sw3sd4IZIGW"
      },
      "execution_count": null,
      "outputs": []
    },
    {
      "cell_type": "code",
      "source": [
        "print(Ventas_Producto_Tienda_1)"
      ],
      "metadata": {
        "colab": {
          "base_uri": "https://localhost:8080/"
        },
        "id": "wAg3MMYsAdzD",
        "outputId": "9c8198ae-b28e-4fb9-ce08-e3f3613b10bd"
      },
      "execution_count": null,
      "outputs": [
        {
          "output_type": "stream",
          "name": "stdout",
          "text": [
            "(['Microondas', 'TV LED UHD 4K', 'Armario', 'Celular ABXY'], [60, 60, 60, 33])\n"
          ]
        }
      ]
    },
    {
      "cell_type": "code",
      "source": [],
      "metadata": {
        "id": "70mw6Wituw-6"
      },
      "execution_count": null,
      "outputs": []
    },
    {
      "cell_type": "code",
      "source": [
        "tamano=[len(Ventas_Producto_Tienda_1[0]),len(Ventas_Producto_Tienda_2[0]),len(Ventas_Producto_Tienda_3[0]),len(Ventas_Producto_Tienda_4[0])]\n",
        "valor_maximo=max(tamano)\n",
        "compara_producto=Ventas_Producto_Tienda_1[1][0]\n",
        "compara_producto2=Ventas_Producto_Tienda_2[1][0]\n",
        "#print(compara_producto)\n",
        "text=''\n",
        "text2=''\n",
        "Tienda_texto='Tienda 1'\n",
        "for i in range(valor_maximo):\n",
        "  if compara_producto==Ventas_Producto_Tienda_1[1][i]:\n",
        "    espacios=30-len(Ventas_Producto_Tienda_1[0][i])\n",
        "    text=text+Tienda_texto+' '*5+Ventas_Producto_Tienda_1[0][i]+' '*espacios+str(Ventas_Producto_Tienda_1[1][i])+'\\n'\n",
        "  else :\n",
        "    espacios=30-len(Ventas_Producto_Tienda_1[0][i])\n",
        "    text2=Tienda_texto+' '*5+text2+Ventas_Producto_Tienda_1[0][i]+' '*espacios+str(Ventas_Producto_Tienda_1[1][i])+'\\n'\n",
        "\n",
        " # if compara_producto2==Ventas_Producto_Tienda_2[1][i]\n",
        "  #  espacios=30-len(Ventas_Producto_Tienda_2[0][i])\n",
        "   # text=text+Ventas_Producto_Tienda_2[0][i]+' '*espacios+str(Ventas_Producto_Tienda_2[1][i])+'\\n'\n",
        "print(\"\\033[1m\" +'Tienda       Producto mas vendido        Total'+ \"\\033[0m\")\n",
        "\n",
        "print(text)\n",
        "print(\"\\033[1m\" +'             Producto memos vendido      Total'+ \"\\033[0m\")\n",
        "print(text2)\n",
        "#+' '*10+str(Ventas_Producto_Tienda_2[1][i])+' '*10+str(Ventas_Producto_Tienda_3[1][i])+' '*10+str(Ventas_Producto_Tienda_4[1][i])\n"
      ],
      "metadata": {
        "colab": {
          "base_uri": "https://localhost:8080/"
        },
        "id": "4AAvIbKQsZ19",
        "outputId": "10f64fdd-5aa2-4bc7-80d5-d76953449d90"
      },
      "execution_count": null,
      "outputs": [
        {
          "output_type": "stream",
          "name": "stdout",
          "text": [
            "\u001b[1mTienda       Producto mas vendido        Total\u001b[0m\n",
            "Tienda 1     Microondas                    60\n",
            "Tienda 1     TV LED UHD 4K                 60\n",
            "Tienda 1     Armario                       60\n",
            "\n",
            "\u001b[1m             Producto memos vendido      Total\u001b[0m\n",
            "Tienda 1     Celular ABXY                  33\n",
            "\n"
          ]
        }
      ]
    },
    {
      "cell_type": "code",
      "source": [
        "def max_min_producto(partienda):\n",
        "  ultimo=len(partienda)-1\n",
        "  ultimo\n",
        "  producto=[]\n",
        "  max_min=[]\n",
        "  sort_Producto = partienda.sort_values(by='conteo',ascending=False)\n",
        "  for i in range(len(partienda)):\n",
        "    if i==0:\n",
        "      producto.append(partienda['Producto'][i])\n",
        "      max_min.append(int(partienda['conteo'][i]))\n",
        "    elif i==ultimo:\n",
        "      producto.append(partienda['Producto'][i])\n",
        "      max_min.append(int(partienda['conteo'][i]))\n",
        "  return producto, max_min"
      ],
      "metadata": {
        "id": "csFrBkWoBqCy"
      },
      "execution_count": null,
      "outputs": []
    },
    {
      "cell_type": "code",
      "source": [
        "max_min=[]\n",
        "max_min=max_min_producto(Ventas_Producto_Tienda_3)\n",
        "print(max_min)"
      ],
      "metadata": {
        "colab": {
          "base_uri": "https://localhost:8080/"
        },
        "id": "ISLOljsvB0r1",
        "outputId": "4a536862-d593-4cfb-efc2-e83e851a253a"
      },
      "execution_count": null,
      "outputs": [
        {
          "output_type": "stream",
          "name": "stdout",
          "text": [
            "(['Ajedrez de madera', 'Vaso térmico'], [47, 38])\n"
          ]
        }
      ]
    },
    {
      "cell_type": "markdown",
      "source": [
        "# 5. Envío promedio por tienda"
      ],
      "metadata": {
        "id": "Fl0cGi3bZKqU"
      }
    },
    {
      "cell_type": "code",
      "source": [
        "print('Envìo Promedio por tienda\\n')\n",
        "print(f'Tienda 1:      {costo_envio_tienda_1}')\n",
        "print(f'Tienda 2:      {costo_envio_tienda_2}')\n",
        "print(f'Tienda 3:      {costo_envio_tienda_3}')\n",
        "print(\"\\033[1m\" + f'Tienda 4:      {costo_envio_tienda_4}'+ \"\\033[0m\")\n"
      ],
      "metadata": {
        "id": "S2JeaCykZNy9",
        "colab": {
          "base_uri": "https://localhost:8080/"
        },
        "outputId": "71ead860-6e3e-46e2-9aff-43ff4182ae43"
      },
      "execution_count": 14,
      "outputs": [
        {
          "output_type": "stream",
          "name": "stdout",
          "text": [
            "Envìo Promedio por tienda\n",
            "\n",
            "Tienda 1:      61377900.0\n",
            "Tienda 2:      59485100.0\n",
            "Tienda 3:      58516600.0\n",
            "\u001b[1mTienda 4:      55317400.0\u001b[0m\n"
          ]
        }
      ]
    }
  ]
}